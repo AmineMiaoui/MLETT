{
  "nbformat": 4,
  "nbformat_minor": 0,
  "metadata": {
    "colab": {
      "provenance": [],
      "authorship_tag": "ABX9TyNC1/3eQlWP0IUH4TZkofB6",
      "include_colab_link": true
    },
    "kernelspec": {
      "name": "python3",
      "display_name": "Python 3"
    },
    "language_info": {
      "name": "python"
    }
  },
  "cells": [
    {
      "cell_type": "markdown",
      "metadata": {
        "id": "view-in-github",
        "colab_type": "text"
      },
      "source": [
        "<a href=\"https://colab.research.google.com/github/AmineMiaoui/MLETT/blob/main/problem3.ipynb\" target=\"_parent\"><img src=\"https://colab.research.google.com/assets/colab-badge.svg\" alt=\"Open In Colab\"/></a>"
      ]
    },
    {
      "cell_type": "code",
      "source": [
        "def guarded_cells(m, n, guards, walls):\n",
        "\n",
        "    grid = [[0] * n for _ in range(m)]\n",
        "\n",
        "    for guard in guards:\n",
        "        grid[guard[0]][guard[1]] = 2\n",
        "    for wall in walls:\n",
        "        grid[wall[0]][wall[1]] = 3\n",
        "\n",
        "    directions = [(1, 0), (-1, 0), (0, -1), (0, 1)]\n",
        "\n",
        "    for gx, gy in guards:\n",
        "        for dx, dy in directions:\n",
        "            x, y = gx + dx, gy + dy\n",
        "            while 0 <= x < m and 0 <= y < n:\n",
        "                if grid[x][y] in (3, 2):\n",
        "                    break\n",
        "                if grid[x][y] == 0:\n",
        "                    grid[x][y] = 1\n",
        "                x, y = x + dx, y + dy\n",
        "\n",
        "    unguarded_cells = sum(row.count(0) for row in grid)\n",
        "\n",
        "    return unguarded_cells"
      ],
      "metadata": {
        "id": "wzZU9DBcDxs7"
      },
      "execution_count": 26,
      "outputs": []
    },
    {
      "cell_type": "code",
      "execution_count": 27,
      "metadata": {
        "colab": {
          "base_uri": "https://localhost:8080/"
        },
        "id": "kC9lwNZeBqxL",
        "outputId": "b30e41fd-cf7c-4adf-9ea9-a2b59160a3ee"
      },
      "outputs": [
        {
          "output_type": "stream",
          "name": "stdout",
          "text": [
            "Nombre de cellules non gardées : 7\n"
          ]
        }
      ],
      "source": [
        "m = 4\n",
        "n = 6\n",
        "guards = [[0,0],[1,1],[2,3]]\n",
        "walls = [[0,1],[2,2],[1,4]]\n",
        "\n",
        "print(\"Nombre de cellules non gardées :\", guarded_cells(m, n, guards, walls))\n"
      ]
    },
    {
      "cell_type": "code",
      "source": [
        "m = 3\n",
        "n = 3\n",
        "guards = [[1,1]]\n",
        "walls = [[0,1],[1,0],[2,1],[1,2]]\n",
        "print(\"Nombre de cellules non gardées :\", guarded_cells(m, n, guards, walls))"
      ],
      "metadata": {
        "colab": {
          "base_uri": "https://localhost:8080/"
        },
        "id": "-zCKIxO6E0Qo",
        "outputId": "88bea1ac-cc46-4523-9b39-82b3091e1904"
      },
      "execution_count": 28,
      "outputs": [
        {
          "output_type": "stream",
          "name": "stdout",
          "text": [
            "Nombre de cellules non gardées : 4\n"
          ]
        }
      ]
    },
    {
      "cell_type": "code",
      "source": [
        "import random\n",
        "'''\n",
        "while True:\n",
        "  m = random.randint(1, 10**5)\n",
        "  n = random.randint(1, 10**5)\n",
        "  if 2 <= m * n <= 10**5:\n",
        "    break\n",
        "'''\n",
        "m = 316\n",
        "n = 316\n",
        "total_cells = m * n\n",
        "max_elements = min(total_cells, 5 * 10**4)\n",
        "num_guards = random.randint(1, max_elements - 1)\n",
        "num_walls = random.randint(1, max_elements - num_guards)\n",
        "\n",
        "\n",
        "all_positions = [(i, j) for i in range(m) for j in range(n)]\n",
        "random.shuffle(all_positions)\n",
        "guards = all_positions[:num_guards]\n",
        "walls = all_positions[num_guards:num_guards + num_walls]\n",
        "\n",
        "print(f\"Dimensions de la grille : {m}x{n}\")\n",
        "print(f\"Nombre de guards : {len(guards)}\")\n",
        "print(f\"Nombre de murs : {len(walls)}\")\n",
        "print(f\"Nombre de cellules vides : {(m*n)-(len(walls)+len(guards))}\")"
      ],
      "metadata": {
        "colab": {
          "base_uri": "https://localhost:8080/"
        },
        "id": "iWqsMw2BE_Bx",
        "outputId": "e64a8dd8-1e4a-4a48-c002-852912d9f024"
      },
      "execution_count": 79,
      "outputs": [
        {
          "output_type": "stream",
          "name": "stdout",
          "text": [
            "Dimensions de la grille : 316x316\n",
            "Nombre de guards : 11080\n",
            "Nombre de murs : 21740\n",
            "Nombre de cellules vides : 67036\n"
          ]
        }
      ]
    },
    {
      "cell_type": "code",
      "source": [
        "print(\"Nombre de cellules non gardées :\", guarded_cells(m, n, guards, walls))"
      ],
      "metadata": {
        "colab": {
          "base_uri": "https://localhost:8080/"
        },
        "id": "BgheL2rbFfQ9",
        "outputId": "12478ae9-247a-4af0-f15e-dc3f727833ce"
      },
      "execution_count": 80,
      "outputs": [
        {
          "output_type": "stream",
          "name": "stdout",
          "text": [
            "Nombre de cellules non gardées : 13282\n"
          ]
        }
      ]
    }
  ]
}