{
  "nbformat": 4,
  "nbformat_minor": 0,
  "metadata": {
    "colab": {
      "provenance": [],
      "authorship_tag": "ABX9TyMub8NujM4e4UfQMNOJ5bIU",
      "include_colab_link": true
    },
    "kernelspec": {
      "name": "python3",
      "display_name": "Python 3"
    },
    "language_info": {
      "name": "python"
    }
  },
  "cells": [
    {
      "cell_type": "markdown",
      "metadata": {
        "id": "view-in-github",
        "colab_type": "text"
      },
      "source": [
        "<a href=\"https://colab.research.google.com/github/AmineMiaoui/MLETT/blob/main/problem1.ipynb\" target=\"_parent\"><img src=\"https://colab.research.google.com/assets/colab-badge.svg\" alt=\"Open In Colab\"/></a>"
      ]
    },
    {
      "cell_type": "code",
      "source": [
        "def sum_x(memo, x):\n",
        "\n",
        "    sorted_items = sorted(memo.items(), key=lambda item: (-item[1], -item[0]))\n",
        "    selected_items = sorted_items[:x]\n",
        "    total_sum = sum(key * val for key, val in selected_items)\n",
        "\n",
        "    return total_sum\n"
      ],
      "metadata": {
        "id": "LbrcVqVUtDR-"
      },
      "execution_count": 66,
      "outputs": []
    },
    {
      "cell_type": "code",
      "source": [
        "def x_sum(nums,k,x):\n",
        "  memo = {}\n",
        "  answer = []\n",
        "  for num in nums[:k]:\n",
        "    memo[num] = memo.get(num, 0) + 1\n",
        "\n",
        "  for i in range(len(nums)-k+1):\n",
        "    if(i == 0 ):\n",
        "       answer.append(sum_x(memo,x))\n",
        "    else :\n",
        "      memo[nums[i-1]] -=1\n",
        "      if memo[nums[i-1]] == 0:\n",
        "       del memo[nums[i-1]]\n",
        "      memo[nums[i+k-1]] = memo.get(nums[i+k-1], 0) + 1\n",
        "      answer.append(sum_x(memo,x))\n",
        "\n",
        "  return answer"
      ],
      "metadata": {
        "id": "wj6iUAplxQFk"
      },
      "execution_count": 75,
      "outputs": []
    },
    {
      "cell_type": "code",
      "execution_count": 70,
      "metadata": {
        "colab": {
          "base_uri": "https://localhost:8080/"
        },
        "id": "GacmAhNepPUk",
        "outputId": "373c0f06-7bee-41cc-c734-33793a07e92a"
      },
      "outputs": [
        {
          "output_type": "stream",
          "name": "stdout",
          "text": [
            "[6, 10, 12]\n"
          ]
        }
      ],
      "source": [
        "nums = [1,1,2,2,3,4,2,3]\n",
        "k = 6\n",
        "x = 2\n",
        "print(x_sum(nums,k,x))"
      ]
    },
    {
      "cell_type": "code",
      "source": [
        "nums = [3,8,7,8,7,5]\n",
        "k = 2\n",
        "x = 2\n",
        "print(x_sum(nums,k,x))"
      ],
      "metadata": {
        "colab": {
          "base_uri": "https://localhost:8080/"
        },
        "id": "W96sBnKKzNIo",
        "outputId": "af3991bd-7392-4213-a684-6907d0c9dd3a"
      },
      "execution_count": 43,
      "outputs": [
        {
          "output_type": "stream",
          "name": "stdout",
          "text": [
            "[11, 15, 15, 15, 12]\n"
          ]
        }
      ]
    },
    {
      "cell_type": "code",
      "source": [
        "import random"
      ],
      "metadata": {
        "id": "sYEdRvdIzTF5"
      },
      "execution_count": 45,
      "outputs": []
    },
    {
      "cell_type": "code",
      "source": [
        "n = 10**5\n",
        "nums = [random.randint(1, 10**9) for _ in range(n)]\n",
        "k = random.randint(1, n)\n",
        "x = random.randint(1, k)\n",
        "print(\"n =\",n)\n",
        "print(\"nums[:10] = \",nums[:10] )\n",
        "print(f\"k = \",k)\n",
        "print(f\"x =\",x)"
      ],
      "metadata": {
        "colab": {
          "base_uri": "https://localhost:8080/"
        },
        "id": "Zx7_RP0Wzh4E",
        "outputId": "1a74e9a6-ea5c-441a-b694-758a81e78e89"
      },
      "execution_count": 71,
      "outputs": [
        {
          "output_type": "stream",
          "name": "stdout",
          "text": [
            "n = 100000\n",
            "nums[:10] =  [60089276, 971313060, 173344755, 640226488, 538794921, 147163313, 59581608, 184113429, 215615103, 16766052]\n",
            "k =  47186\n",
            "x = 18166\n"
          ]
        }
      ]
    },
    {
      "cell_type": "code",
      "source": [
        "print(x_sum(nums,5,x))"
      ],
      "metadata": {
        "id": "XU5Ajybgz-Fd"
      },
      "execution_count": null,
      "outputs": []
    },
    {
      "cell_type": "code",
      "source": [
        "import heapq\n",
        "\n",
        "def sum_xh(memo, x):\n",
        "    selected_items = heapq.nlargest(x, memo.items(), key=lambda item: (item[1], item[0]))\n",
        "    total_sum = sum(key * val for key, val in selected_items)\n",
        "    return total_sum"
      ],
      "metadata": {
        "id": "A-VWBpJQ4NB-"
      },
      "execution_count": 77,
      "outputs": []
    },
    {
      "cell_type": "code",
      "source": [
        "def x_sumh(nums,k,x):\n",
        "  memo = {}\n",
        "  answer = []\n",
        "  for num in nums[:k]:\n",
        "    memo[num] = memo.get(num, 0) + 1\n",
        "\n",
        "  for i in range(len(nums)-k+1):\n",
        "    if(i == 0 ):\n",
        "       answer.append(sum_x(memo,x))\n",
        "    else :\n",
        "      memo[nums[i-1]] -=1\n",
        "      if memo[nums[i-1]] == 0:\n",
        "       del memo[nums[i-1]]\n",
        "      memo[nums[i+k-1]] = memo.get(nums[i+k-1], 0) + 1\n",
        "      answer.append(sum_x(memo,x))\n",
        "\n",
        "  return answer"
      ],
      "metadata": {
        "id": "SbaQjNqp5C30"
      },
      "execution_count": 78,
      "outputs": []
    },
    {
      "cell_type": "code",
      "source": [
        "import time"
      ],
      "metadata": {
        "id": "HN7a0st-5HhH"
      },
      "execution_count": 79,
      "outputs": []
    },
    {
      "cell_type": "code",
      "source": [
        "start_v1 = time.time()\n",
        "x_sum(nums, 15, x)\n",
        "end_v1 = time.time()\n",
        "\n",
        "start_v2 = time.time()\n",
        "x_sumh(nums, 15, x)\n",
        "end_v2 = time.time()\n",
        "\n",
        "print(f\"Temps (non optimisé) : {end_v1 - start_v1:.6f} secondes\")\n",
        "print(f\"Temps (optimisé)     : {end_v2 - start_v2:.6f} secondes\")"
      ],
      "metadata": {
        "colab": {
          "base_uri": "https://localhost:8080/"
        },
        "id": "G_HrvD9O5cwP",
        "outputId": "50476428-4bd4-4ab3-bc95-e56c395f8c26"
      },
      "execution_count": 87,
      "outputs": [
        {
          "output_type": "stream",
          "name": "stdout",
          "text": [
            "Temps (non optimisé) : 1.337074 secondes\n",
            "Temps (optimisé)     : 0.762216 secondes\n"
          ]
        }
      ]
    }
  ]
}